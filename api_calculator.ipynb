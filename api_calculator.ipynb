{
 "cells": [
  {
   "cell_type": "code",
   "execution_count": 4,
   "id": "951afaeb",
   "metadata": {},
   "outputs": [],
   "source": [
    "# Try to import necessary libraries.\n",
    "\n",
    "import gradio as gr "
   ]
  },
  {
   "cell_type": "code",
   "execution_count": 7,
   "id": "e7a2a8b9",
   "metadata": {},
   "outputs": [
    {
     "name": "stdout",
     "output_type": "stream",
     "text": [
      "Running on local URL:  http://127.0.0.1:7861\n",
      "\n",
      "To create a public link, set `share=True` in `launch()`.\n"
     ]
    },
    {
     "data": {
      "text/html": [
       "<div><iframe src=\"http://127.0.0.1:7861/\" width=\"100%\" height=\"500\" allow=\"autoplay; camera; microphone; clipboard-read; clipboard-write;\" frameborder=\"0\" allowfullscreen></iframe></div>"
      ],
      "text/plain": [
       "<IPython.core.display.HTML object>"
      ]
     },
     "metadata": {},
     "output_type": "display_data"
    },
    {
     "data": {
      "text/plain": []
     },
     "execution_count": 7,
     "metadata": {},
     "output_type": "execute_result"
    }
   ],
   "source": [
    "# Import necessary libraries\n",
    "import gradio as gr\n",
    "\n",
    "# Define the calculator function\n",
    "def calculator(num1, num2, operation):\n",
    "    \"\"\"\n",
    "    Perform the selected arithmetic operation on two numbers.\n",
    "\n",
    "    Parameters:\n",
    "    num1 (float): The first number\n",
    "    num2 (float): The second number\n",
    "    operation (str): The operation to perform (\"Add\", \"Subtract\", \"Multiply\", \"Divide\")\n",
    "\n",
    "    Returns:\n",
    "    float: The result of the operation\n",
    "    \"\"\"\n",
    "    if operation == \"Add\":\n",
    "        return num1 + num2\n",
    "    elif operation == \"Subtract\":\n",
    "        return num1 - num2\n",
    "    elif operation == \"Multiply\":\n",
    "        return num1 * num2\n",
    "    elif operation == \"Divide\":\n",
    "        # Check to avoid division by zero\n",
    "        if num2 == 0:\n",
    "            return \"Cannot divide by zero!\"\n",
    "        else:\n",
    "            return num1 / num2\n",
    "    else:\n",
    "        return \"Invalid operation\"\n",
    "\n",
    "# Customize the interface elements\n",
    "with gr.Blocks(css=\".container {background-color: #f5f5f5; padding: 20px;}\") as calculator_app:\n",
    "     \n",
    "    # Title and description of the calculator app\n",
    "    gr.Markdown(\"\"\"\n",
    "    <h1 style=\"text-align: center; color: #2c3e50;\">Simple Calculator App</h1>\n",
    "    <p style=\"text-align: center; font-size: 1.1em;\">Perform basic arithmetic operations easily.</p>\n",
    "    \"\"\")\n",
    "    \n",
    "    with gr.Row():\n",
    "        # Input fields for the two numbers\n",
    "        num1 = gr.Number(label=\"Enter first number\", value=0)\n",
    "        num2 = gr.Number(label=\"Enter second number\", value=0)\n",
    "\n",
    "    with gr.Row():\n",
    "        # Dropdown for selecting the operation\n",
    "        operation = gr.Dropdown(choices=[\"Add\", \"Subtract\", \"Multiply\", \"Divide\"], \n",
    "                                label=\"Select Operation\", value=\"Add\")\n",
    "    \n",
    "    with gr.Row():\n",
    "        # Output field for displaying the result\n",
    "        result = gr.Textbox(label=\"Result\", interactive=False)\n",
    "\n",
    "    # Button for calculating the result\n",
    "    calculate_btn = gr.Button(\"Calculate\", variant=\"primary\")\n",
    "    \n",
    "    # Link button click to the function and display result in the output box\n",
    "    calculate_btn.click(fn=calculator, inputs=[num1, num2, operation], outputs=result)\n",
    "\n",
    "# Launch the app\n",
    "calculator_app.launch()"
   ]
  },
  {
   "cell_type": "code",
   "execution_count": null,
   "id": "a500a4df",
   "metadata": {},
   "outputs": [],
   "source": []
  }
 ],
 "metadata": {
  "kernelspec": {
   "display_name": "Python 3 (ipykernel)",
   "language": "python",
   "name": "python3"
  },
  "language_info": {
   "codemirror_mode": {
    "name": "ipython",
    "version": 3
   },
   "file_extension": ".py",
   "mimetype": "text/x-python",
   "name": "python",
   "nbconvert_exporter": "python",
   "pygments_lexer": "ipython3",
   "version": "3.9.12"
  }
 },
 "nbformat": 4,
 "nbformat_minor": 5
}
